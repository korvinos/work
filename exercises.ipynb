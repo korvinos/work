{
 "cells": [
  {
   "cell_type": "code",
   "execution_count": 2,
   "metadata": {
    "collapsed": true
   },
   "outputs": [],
   "source": [
    "import numpy as np\n",
    "import matplotlib.pyplot as plt\n",
    "from nansat import Nansat, Domain, Mosaic\n",
    "from boreali import Boreali\n",
    "\n",
    "%matplotlib inline"
   ]
  },
  {
   "cell_type": "markdown",
   "metadata": {},
   "source": [
    "Test img file name: A2014301181500.L2_LAC_OC.x.nc\n",
    "Bathymetry file: michigan_lld.grd"
   ]
  },
  {
   "cell_type": "code",
   "execution_count": 3,
   "metadata": {},
   "outputs": [
    {
     "name": "stdout",
     "output_type": "stream",
     "text": [
      "=>michigan.grd<=\n"
     ]
    }
   ],
   "source": [
    "n_img = Nansat('/home/korvinos/Documents/Programming/Work/work/data/A2014301181500.L2_LAC_OC.x.nc')\n",
    "bathymetry = Nansat('/home/korvinos/Documents/Programming/Work/work/data/michigan_lld.grd')\n",
    "\n",
    "dom = Domain('+proj=latlong +datum=WGS84 +ellps=WGS84 +no_defs', '-lle -86.3 44.6 -85.2 45.3 -ts 300 200')\n",
    "\n",
    "n_img.reproject(dom)\n",
    "bathymetry.reproject(dom)"
   ]
  },
  {
   "cell_type": "code",
   "execution_count": 1,
   "metadata": {},
   "outputs": [],
   "source": [
    "#bottom plotting\n",
    "h = bathymetry[1]\n",
    "h = np.where(h >= 0, np.nan, np.array(h) * -1)\n",
    "h_mask = np.where(np.isfinite(h), np.nan, 1)\n",
    "\n",
    "y = np.arange(0.0, 201.0, 200.0 / 7)\n",
    "y_labels = np.arange(45.3, 44.5, -0.1)\n",
    "x = np.arange(0.0, 301.0, 300.0 / 11)\n",
    "x_labels = np.arange(86.3, 85.2, -0.1)\n",
    "\n",
    "plt.figure(figsize=(200,100))\n",
    "plt.imshow(h, cmap='Blues')\n",
    "plt.yticks(y, y_labels)\n",
    "plt.xticks(x, x_labels)\n",
    "plt.colorbar()\n",
    "plt.imshow(h_mask, cmap='Dark2')\n",
    "plt.grid(color='black')"
   ]
  },
  {
   "cell_type": "code",
   "execution_count": 73,
   "metadata": {},
   "outputs": [],
   "source": [
    "img = Nansat.write_figure(n_img, 'test.png', [10, 8, 2])"
   ]
  },
  {
   "cell_type": "code",
   "execution_count": 1,
   "metadata": {},
   "outputs": [
    {
     "ename": "NameError",
     "evalue": "name 'Boreali' is not defined",
     "traceback": [
      "\u001b[0;31m\u001b[0m",
      "\u001b[0;31mNameError\u001b[0mTraceback (most recent call last)",
      "\u001b[0;32m<ipython-input-1-be4f6b93de4f>\u001b[0m in \u001b[0;36m<module>\u001b[0;34m()\u001b[0m\n\u001b[1;32m      5\u001b[0m \u001b[0mcpa_limits\u001b[0m \u001b[0;34m=\u001b[0m \u001b[0;34m[\u001b[0m\u001b[0;36m0.01\u001b[0m\u001b[0;34m,\u001b[0m \u001b[0;36m2\u001b[0m\u001b[0;34m,\u001b[0m \u001b[0;36m0.01\u001b[0m\u001b[0;34m,\u001b[0m \u001b[0;36m1\u001b[0m\u001b[0;34m,\u001b[0m \u001b[0;36m0.01\u001b[0m\u001b[0;34m,\u001b[0m \u001b[0;36m1\u001b[0m\u001b[0;34m,\u001b[0m \u001b[0;36m10\u001b[0m\u001b[0;34m]\u001b[0m\u001b[0;34m\u001b[0m\u001b[0m\n\u001b[1;32m      6\u001b[0m \u001b[0;34m\u001b[0m\u001b[0m\n\u001b[0;32m----> 7\u001b[0;31m \u001b[0mb\u001b[0m \u001b[0;34m=\u001b[0m \u001b[0mBoreali\u001b[0m\u001b[0;34m(\u001b[0m\u001b[0;34m'michigan'\u001b[0m\u001b[0;34m,\u001b[0m \u001b[0mwavelen\u001b[0m\u001b[0;34m)\u001b[0m\u001b[0;34m\u001b[0m\u001b[0m\n\u001b[0m\u001b[1;32m      8\u001b[0m \u001b[0mtheta\u001b[0m \u001b[0;34m=\u001b[0m \u001b[0mnp\u001b[0m\u001b[0;34m.\u001b[0m\u001b[0mzeros_like\u001b[0m\u001b[0;34m(\u001b[0m\u001b[0mn_img\u001b[0m\u001b[0;34m[\u001b[0m\u001b[0;36m2\u001b[0m\u001b[0;34m]\u001b[0m\u001b[0;34m)\u001b[0m\u001b[0;34m\u001b[0m\u001b[0m\n\u001b[1;32m      9\u001b[0m \u001b[0;34m\u001b[0m\u001b[0m\n",
      "\u001b[0;31mNameError\u001b[0m: name 'Boreali' is not defined"
     ],
     "output_type": "error"
    }
   ],
   "source": [
    "# boreali case\n",
    "\n",
    "wavelen = [412, 443, 469, 488, 531, 547, 555, 645, 667, 678]\n",
    "\n",
    "cpa_limits = [0.01, 2, 0.01, 1, 0.01, 1, 10]\n",
    "\n",
    "b = Boreali('michigan', wavelen)\n",
    "theta = np.zeros_like(n_img[2])\n",
    "\n",
    "custom_n = Nansat(domain=n_img)\n",
    "band_rrs_numbers = list(map(lambda x: n_img._get_band_number('Rrs_' + str(x)), wavelen)) \n",
    "\n",
    "for index in range(0, len(wavelen)):\n",
    "    rrsw = n_img[band_rrs_numbers[index]] / (0.52 + 1.7 * n_img[band_rrs_numbers[index]])   \n",
    "    custom_n.add_band(rrsw, parameters={'name': 'Rrsw_' + str(wavelen[index]),  \n",
    "                                        'units': 'sr-1',\n",
    "                                        'wavelength': wavelen[index]})\n",
    "\n",
    "    custom_n.add_band(n_img[band_rrs_numbers[index]], parameters={'name': 'Rrs_' + str(wavelen[index]),\n",
    "                                                                  'units': 'sr-1',\n",
    "                                                                  'wavelength': wavelen[index]})\n",
    "    \n",
    "mask = np.where(n_img[2] != np.float(-0.015534), np.array(64.0), np.array(0.0))\n",
    "mask = np.where(np.isfinite(h), mask * 1, mask * 0)\n",
    "custom_n.add_band(mask, parameters={'name' : 'mask'})\n",
    "\n",
    "cpa = b.process(custom_n, cpa_limits,  mask=custom_n['mask'], depth=h, theta=theta, threads=4)\n",
    "\n",
    "custom_n.add_band(array=cpa[0], parameters={'name': 'chl',\n",
    "                                            'long_name': 'Chlorophyl-a',\n",
    "                                            'units': 'mg m-3'})\n",
    "custom_n.add_band(array=cpa[1], parameters={'name': 'tsm',\n",
    "                                            'long_name': 'Total suspended matter',\n",
    "                                            'units': 'g m-3'})\n",
    "custom_n.add_band(array=cpa[2], parameters={'name': 'doc',\n",
    "                                            'long_name': 'Dissolved organic carbon',\n",
    "                                            'units': 'gC m-3'})\n",
    "custom_n.add_band(array=cpa[3], parameters={'name': 'mse',\n",
    "                                            'long_name': 'Root Mean Square Error',\n",
    "                                            'units': 'sr-1'})\n",
    "custom_n.add_band(array=cpa[4], parameters={'name': 'mask',\n",
    "                                            'long_name': 'L2 Boreali mask',\n",
    "                                            'units': '1'})\n",
    "#   custom_n.export(final_path + obj.split('/')[-1] + 'cpa_OSW.nc')"
   ]
  },
  {
   "cell_type": "markdown",
   "metadata": {},
   "source": [
    "    fig_params = {'legend': True,\n",
    "                  'LEGEND_HEIGHT': 0.5,\n",
    "                  'NAME_LOCATION_Y': 0,\n",
    "                  'mask_array': cpa[4],\n",
    "                  'mask_lut': {1: [255, 255, 255],\n",
    "                               2: [128, 128, 128],\n",
    "                               4: [200, 200, 255]}}\n",
    "    custom_n.write_figure(final_path + obj.split('/')[-1] + 'chl_OSW.png', 'chl', clim=[0, 1.], **fig_params)\n",
    "    custom_n.write_figure(final_path + obj.split('/')[-1] + 'tsm_OSW.png', 'tsm', clim=[0, 1.], **fig_params)\n",
    "    custom_n.write_figure(final_path + obj.split('/')[-1] + 'doc_OSW.png', 'doc', clim=[0, .2], **fig_params)\n",
    "    custom_n.write_figure(final_path + obj.split('/')[-1] + 'mse_OSW.png', 'mse', clim=[1e-5, 1e-2],\n",
    "                          logarithm=True, **fig_params)\n",
    "    n.write_figure(final_path + obj.split('/')[-1] + 'rgb_OSW.png',\n",
    "                   [16, 14, 6],\n",
    "                   clim=[[0, 0, 0], [0.006, 0.04, 0.024]],\n",
    "                   mask_array=cpa[4],\n",
    "                   mask_lut={2: [128, 128, 128]})"
   ]
  }
 ],
 "metadata": {
  "kernelspec": {
   "display_name": "Python 2",
   "language": "python",
   "name": "python2"
  },
  "language_info": {
   "codemirror_mode": {
    "name": "ipython",
    "version": 2.0
   },
   "file_extension": ".py",
   "mimetype": "text/x-python",
   "name": "python",
   "nbconvert_exporter": "python",
   "pygments_lexer": "ipython2",
   "version": "2.7.6"
  }
 },
 "nbformat": 4,
 "nbformat_minor": 0
}