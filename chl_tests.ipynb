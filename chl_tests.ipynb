{
 "cells": [
  {
   "cell_type": "code",
   "execution_count": 1,
   "metadata": {
    "collapsed": true
   },
   "outputs": [
    {
     "name": "stderr",
     "output_type": "stream",
     "text": [
      "/home/artemm/miniconda/lib/python2.7/site-packages/matplotlib/font_manager.py:273: UserWarning: Matplotlib is building the font cache using fc-list. This may take a moment.\n  warnings.warn('Matplotlib is building the font cache using fc-list. This may take a moment.')\n"
     ]
    }
   ],
   "source": [
    "from nansat import Nansat, Domain\n",
    "import matplotlib.pyplot as plt\n",
    "import numpy as np\n",
    "from boreali import  Boreali, lm\n",
    "import custrepr"
   ]
  },
  {
   "cell_type": "code",
   "execution_count": 2,
   "metadata": {},
   "outputs": [
    {
     "name": "stdout",
     "output_type": "stream",
     "text": [
      "=>michigan.grd<=\n"
     ]
    }
   ],
   "source": [
    "# different kinds of test data was processed by boreali algorithms \n",
    "# october data\n",
    "n_osw_oct = Nansat('/home/artemm/Documents/michigan/tests/A2014301181500.L2_LAC_OC.x.nccpa_OSW.nc')\n",
    "n_deep_oct = Nansat('/home/artemm/Documents/michigan/tests/A2014301181500.L2_LAC_OC.x.nccpa_deep.nc')\n",
    "# may data\n",
    "n_osw_may = Nansat('/home/artemm/Documents/michigan/tests/A2014121184000.L2_LAC_OC.x.nccpa_OSW.nc')\n",
    "n_deep_may = Nansat('/home/artemm/Documents/michigan/tests/A2014121184000.L2_LAC_OC.x.nccpa_deep.nc')\n",
    "\n",
    "# base files\n",
    "n_rrs_oct = Nansat('/home/artemm/Documents/michigan/data/2014/oct/A2014301181500.L2_LAC_OC.x.nc')\n",
    "n_rrs_may = Nansat('/home/artemm/Documents/michigan/data/2014/may/A2014121184000.L2_LAC_OC.x.nc')\n",
    "\n",
    "# bathymetry\n",
    "bottom = Nansat('/home/artemm/Documents/michigan/tests/michigan_lld.grd')\n",
    "\n",
    "dom = Domain('+proj=latlong +datum=WGS84 +ellps=WGS84 +no_defs', '-lle -86.3 44.6 -85.2 45.3 -ts 300 200')\n",
    "\n",
    "n_rrs_oct.reproject(dom)\n",
    "n_rrs_may.reproject(dom)\n",
    "bottom.reproject(dom)"
   ]
  },
  {
   "cell_type": "code",
   "execution_count": 17,
   "metadata": {},
   "outputs": [
    {
     "name": "stderr",
     "output_type": "stream",
     "text": [
      "/home/artemm/miniconda/lib/python2.7/site-packages/ipykernel/__main__.py:4: RuntimeWarning: invalid value encountered in less\n"
     ]
    }
   ],
   "source": [
    "# droving of bottom\n",
    "h = np.copy(bottom[1])\n",
    "h[np.where(h > np.float32(0.0))] = np.nan\n",
    "h[np.where(h < np.float32(0.0))] *= np.float32(-1)\n",
    "plt.figure('bottom')\n",
    "plt.imshow(h)\n",
    "plt.colorbar()\n",
    "plt.show()"
   ]
  },
  {
   "cell_type": "code",
   "execution_count": 18,
   "metadata": {},
   "outputs": [],
   "source": [
    "# droving of Rrsw spectrum for the deep and shallow region \n",
    "num_bands = range(2, 12)\n",
    "test_deep = [n_rrs_oct[band][43][5] for band in range(2, 12)]\n",
    "h_deep = bottom[1][43][5]\n",
    "h_shallow = bottom[1][111][41]\n",
    "test_shallow = [n_rrs_oct[band][111][41] for band in range(2, 12)]\n",
    "wavelens = [412, 443, 469, 488, 531, 547, 555, 645, 667, 678]\n",
    "custom_n = Nansat(domain=n_rrs_oct)\n",
    "\n",
    "# Rrsw processing\n",
    "band_rrs_numbers = list(map(lambda x: n_rrs_oct._get_band_number('Rrs_' + str(x)), wavelens))\n",
    "\n",
    "for index in range(0, len(wavelens)):\n",
    "    rrsw = n_rrs_oct[band_rrs_numbers[index]] / (0.52 + 1.7 * n_rrs_oct[band_rrs_numbers[index]])\n",
    "    custom_n.add_band(rrsw, parameters={'name': 'Rrsw_' + str(wavelens[index]),\n",
    "                                        'units': 'sr-1',\n",
    "                                        'wavelength': wavelens[index]})\n",
    "\n",
    "# plotting\n",
    "plt.plot(num_bands, test_deep, label='deep ' + str(round(h_deep * -1, 1)) + 'm')\n",
    "plt.plot(num_bands, test_shallow, label='shallow ' + str(round(h_shallow * -1, 1)) + 'm')\n",
    "plt.legend()\n",
    "plt.xticks(num_bands, wavelens)\n",
    "plt.xlabel('wavelength, nm')\n",
    "plt.ylabel('Rrsw, sr^-1')\n",
    "#plt.ylim([0, 0.04])\n",
    "plt.show()"
   ]
  },
  {
   "cell_type": "code",
   "execution_count": 18,
   "metadata": {},
   "outputs": [],
   "source": [
    ""
   ]
  },
  {
   "cell_type": "code",
   "execution_count": 18,
   "metadata": {},
   "outputs": [],
   "source": [
    ""
   ]
  },
  {
   "cell_type": "code",
   "execution_count": 18,
   "metadata": {},
   "outputs": [],
   "source": [
    ""
   ]
  },
  {
   "cell_type": "code",
   "execution_count": 18,
   "metadata": {},
   "outputs": [],
   "source": [
    ""
   ]
  },
  {
   "cell_type": "code",
   "execution_count": 18,
   "metadata": {},
   "outputs": [],
   "source": [
    ""
   ]
  },
  {
   "cell_type": "code",
   "execution_count": 18,
   "metadata": {},
   "outputs": [],
   "source": [
    ""
   ]
  }
 ],
 "metadata": {
  "kernelspec": {
   "display_name": "Python 2",
   "language": "python",
   "name": "python2"
  },
  "language_info": {
   "codemirror_mode": {
    "name": "ipython",
    "version": 2.0
   },
   "file_extension": ".py",
   "mimetype": "text/x-python",
   "name": "python",
   "nbconvert_exporter": "python",
   "pygments_lexer": "ipython2",
   "version": "2.7.6"
  }
 },
 "nbformat": 4,
 "nbformat_minor": 0
}