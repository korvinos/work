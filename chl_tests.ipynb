{
 "cells": [
  {
   "cell_type": "code",
   "execution_count": 1,
   "metadata": {
    "collapsed": true
   },
   "outputs": [],
   "source": [
    "from nansat import Nansat, Domain\n",
    "import matplotlib.pyplot as plt\n",
    "import numpy as np\n",
    "from boreali import Boreali, lm\n",
    "import custrepr\n",
    "from matplotlib.patches import Rectangle"
   ]
  },
  {
   "cell_type": "code",
   "execution_count": 2,
   "metadata": {},
   "outputs": [
    {
     "name": "stdout",
     "output_type": "stream",
     "text": [
      "=>michigan.grd<=\n=>michigan.grd<=\n"
     ]
    }
   ],
   "source": [
    "# different kinds of test data was processed by boreali algorithms \n",
    "# october data\n",
    "n_osw_oct = Nansat('/home/artemm/Documents/Work/MichiganLake/TetsData/A2014301181500.L2_LAC_OC.x.nccpa_OSW.nc')\n",
    "n_deep_oct = Nansat('/home/artemm/Documents/Work/MichiganLake/TetsData/A2014301181500.L2_LAC_OC.x.nccpa_deep.nc')\n",
    "# may data\n",
    "n_osw_may = Nansat('/home/artemm/Documents/Work/MichiganLake/TetsData/A2014121184000.L2_LAC_OC.x.nccpa_OSW.nc')\n",
    "n_deep_may = Nansat('/home/artemm/Documents/Work/MichiganLake/TetsData/A2014121184000.L2_LAC_OC.x.nccpa_deep.nc')\n",
    "\n",
    "# base files\n",
    "n_rrs_oct = Nansat('/home/artemm/Documents/Work/MichiganLake/TetsData/A2014301181500.L2_LAC_OC.x.nc')\n",
    "n_rrs_may = Nansat('/home/artemm/Documents/Work/MichiganLake/TetsData/A2014121184000.L2_LAC_OC.x.nc')\n",
    "\n",
    "# bottom = Nansat('/home/artemm/Documents/Work/MichiganLake/TetsData/michigan_lld.grd')\n",
    "\n",
    "dom_sbd = Domain('+proj=latlong +datum=WGS84 +ellps=WGS84 +no_defs', '-lle -86.3 44.6 -85.2 45.3 -ts 300 200')\n",
    "dom_reg = Domain('+proj=latlong +datum=WGS84 +ellps=WGS84 +no_defs', '-lle -86.3 42.8 -86.2 42.6 -ts 150 300')\n",
    "\n",
    "n_rrs_oct.reproject(dom_sbd)\n",
    "n_rrs_may.reproject(dom_sbd)\n",
    "bottom_sbd = Nansat('/home/artemm/Documents/Work/MichiganLake/TetsData/michigan_lld.grd')\n",
    "bottom_reg = Nansat('/home/artemm/Documents/Work/MichiganLake/TetsData/michigan_lld.grd')"
   ]
  },
  {
   "cell_type": "code",
   "execution_count": null,
   "metadata": {},
   "outputs": [],
   "source": [
    ""
   ]
  },
  {
   "cell_type": "code",
   "execution_count": 4,
   "metadata": {},
   "outputs": [
    {
     "name": "stdout",
     "output_type": "stream",
     "text": [
      "=>michigan.grd<=\n"
     ]
    },
    {
     "data": {
      "text/plain": [
       "----------------------------------------\n/home/artemm/Documents/Work/MichiganLake/TetsData/michigan_lld.grd\n----------------------------------------\nMapper: generic\n----------------------------------------\nBand : 1 z\n  _FillValue: -nan\n  name: z\n  dataType: 6\n  actual_range: {-275.8900146484375,351.9434814453125}\n  long_name: z\n  SourceFilename: /home/artemm/Documents/Work/MichiganLake/TetsData/michigan_lld.grd\n  SourceBand: 1\n  wkv: \n----------------------------------------\nDomain:[4201 x 5365]\n----------------------------------------\nProjection:\nGEOGCS[\"WGS 84\",\n    DATUM[\"WGS_1984\",\n        SPHEROID[\"WGS 84\",6378137,298.257223563],\n        TOWGS84[0,0,0,0,0,0,0]],\n    PRIMEM[\"Greenwich\",0],\n    UNIT[\"degree\",0.0174532925199433]]\n----------------------------------------\nCorners (lon, lat):\n\t (-88.00,  46.09)  (-84.50,  46.09)\n\t (-88.00,  41.62)  (-84.50,  41.62)"
      ]
     },
     "execution_count": 4,
     "metadata": {},
     "output_type": "execute_result"
    }
   ],
   "source": [
    "aaa = Nansat('/home/artemm/Documents/Work/MichiganLake/TetsData/michigan_lld.grd')\n",
    "aaa"
   ]
  },
  {
   "cell_type": "code",
   "execution_count": 86,
   "metadata": {},
   "outputs": [
    {
     "name": "stderr",
     "output_type": "stream",
     "text": [
      "/home/artemm/Programs/Miniconda/miniconda2/envs/niersc/lib/python2.7/site-packages/ipykernel/__main__.py:16: RuntimeWarning: invalid value encountered in less\n/home/artemm/Programs/Miniconda/miniconda2/envs/niersc/lib/python2.7/site-packages/ipykernel/__main__.py:17: RuntimeWarning: invalid value encountered in greater_equal\n"
     ]
    }
   ],
   "source": [
    "# droving of bottom\n",
    "#bottom_sbd.reproject(dom_sbd)\n",
    "bottom_reg.reproject(dom_reg)\n",
    "\n",
    "\n",
    "y_points = np.arange(0, 300, 150)\n",
    "y_labels = np.arange(42.8, 42.6 -0.1)\n",
    "\n",
    "x_points = np.arange(0, 150, 75)\n",
    "x_labels = np.arange( 86.3, 86.2, -0.1)\n",
    "#len(x_labels)\n",
    "\n",
    "\n",
    "h = np.copy(bottom_reg[1])\n",
    "h[np.where(h > np.float32(0.0))] = np.nan\n",
    "h[np.where(h < np.float32(0.0))] *= np.float32(-1)\n",
    "#h[np.where(h >= np.float32(10.0))] = np.nan\n",
    "plt.figure('bottom')\n",
    "#plt.text(50, 102, '1', fontsize=25, )\n",
    "#plt.text(120, 30, '2', fontsize=25, )\n",
    "#plt.text(222, 10, '3', fontsize=25, )\n",
    "\n",
    "plt.imshow(h)\n",
    "plt.yticks(y_points, y_labels)\n",
    "plt.xticks(x_points, x_labels)\n",
    "plt.grid(color='black')\n",
    "plt.colorbar()\n",
    "\n",
    "# adding of rectangles for each region\n",
    "#currentAxis = plt.gca()\n",
    "#currentAxis.add_patch(Rectangle((112 - .5, 0 - .5), 17, 20, fill=False))    # bank near S.Fox isl.\n",
    "#currentAxis.add_patch(Rectangle((14 - .5, 86 - .5), 46, 48, fill=False))    # Maniton Passage\n",
    "#currentAxis.add_patch(Rectangle((196 - .5, 14 - .5), 68, 38, fill=False))   # Grand Traverse Bay\n",
    "\n",
    "plt.show()"
   ]
  },
  {
   "cell_type": "code",
   "execution_count": 54,
   "metadata": {},
   "outputs": [
    {
     "ename": "NameError",
     "evalue": "name 'bottom' is not defined",
     "traceback": [
      "\u001b[0;31m\u001b[0m",
      "\u001b[0;31mNameError\u001b[0mTraceback (most recent call last)",
      "\u001b[0;32m<ipython-input-54-028c233d343e>\u001b[0m in \u001b[0;36m<module>\u001b[0;34m()\u001b[0m\n\u001b[1;32m      6\u001b[0m \u001b[0;34m\u001b[0m\u001b[0m\n\u001b[1;32m      7\u001b[0m \u001b[0mtest_deep\u001b[0m \u001b[0;34m=\u001b[0m \u001b[0;34m[\u001b[0m\u001b[0mn\u001b[0m\u001b[0;34m[\u001b[0m\u001b[0mband\u001b[0m\u001b[0;34m]\u001b[0m\u001b[0;34m[\u001b[0m\u001b[0mdeep_p_y\u001b[0m\u001b[0;34m]\u001b[0m\u001b[0;34m[\u001b[0m\u001b[0mdeep_p_x\u001b[0m\u001b[0;34m]\u001b[0m \u001b[0;32mfor\u001b[0m \u001b[0mband\u001b[0m \u001b[0;32min\u001b[0m \u001b[0mnum_bands\u001b[0m\u001b[0;34m]\u001b[0m\u001b[0;34m\u001b[0m\u001b[0m\n\u001b[0;32m----> 8\u001b[0;31m \u001b[0mh_deep\u001b[0m \u001b[0;34m=\u001b[0m \u001b[0mbottom\u001b[0m\u001b[0;34m[\u001b[0m\u001b[0;36m1\u001b[0m\u001b[0;34m]\u001b[0m\u001b[0;34m[\u001b[0m\u001b[0mdeep_p_y\u001b[0m\u001b[0;34m]\u001b[0m\u001b[0;34m[\u001b[0m\u001b[0mdeep_p_x\u001b[0m\u001b[0;34m]\u001b[0m\u001b[0;34m\u001b[0m\u001b[0m\n\u001b[0m\u001b[1;32m      9\u001b[0m \u001b[0mh_shallow\u001b[0m \u001b[0;34m=\u001b[0m \u001b[0mbottom\u001b[0m\u001b[0;34m[\u001b[0m\u001b[0;36m1\u001b[0m\u001b[0;34m]\u001b[0m\u001b[0;34m[\u001b[0m\u001b[0mshallow_p_y\u001b[0m\u001b[0;34m]\u001b[0m\u001b[0;34m[\u001b[0m\u001b[0mshallow_p_x\u001b[0m\u001b[0;34m]\u001b[0m\u001b[0;34m\u001b[0m\u001b[0m\n\u001b[1;32m     10\u001b[0m \u001b[0mtest_shallow\u001b[0m \u001b[0;34m=\u001b[0m \u001b[0;34m[\u001b[0m\u001b[0mn\u001b[0m\u001b[0;34m[\u001b[0m\u001b[0mband\u001b[0m\u001b[0;34m]\u001b[0m\u001b[0;34m[\u001b[0m\u001b[0mshallow_p_y\u001b[0m\u001b[0;34m]\u001b[0m\u001b[0;34m[\u001b[0m\u001b[0mshallow_p_x\u001b[0m\u001b[0;34m]\u001b[0m \u001b[0;32mfor\u001b[0m \u001b[0mband\u001b[0m \u001b[0;32min\u001b[0m \u001b[0mnum_bands\u001b[0m\u001b[0;34m]\u001b[0m\u001b[0;34m\u001b[0m\u001b[0m\n",
      "\u001b[0;31mNameError\u001b[0m: name 'bottom' is not defined"
     ],
     "output_type": "error"
    }
   ],
   "source": [
    "# droving of Rrsw spectrum for the deep and shallow region \n",
    "num_bands = range(2, 12)\n",
    "n = n_rrs_oct\n",
    "deep_p_x, deep_p_y = 3, 26\n",
    "shallow_p_x, shallow_p_y = 34, 119\n",
    "\n",
    "test_deep = [n[band][deep_p_y][deep_p_x] for band in num_bands]\n",
    "h_deep = bottom[1][deep_p_y][deep_p_x]\n",
    "h_shallow = bottom[1][shallow_p_y][shallow_p_x]\n",
    "test_shallow = [n[band][shallow_p_y][shallow_p_x] for band in num_bands]\n",
    "wavelens = [412, 443, 469, 488, 531, 547, 555, 645, 667, 678]\n",
    "\n",
    "custom_n = Nansat(domain=n)\n",
    "\n",
    "# Rrsw processing\n",
    "band_rrs_numbers = list(map(lambda x: n._get_band_number('Rrs_' + str(x)), wavelens))\n",
    "\n",
    "for index in range(0, len(wavelens)):\n",
    "    rrsw = n[band_rrs_numbers[index]] / (0.52 + 1.7 * n[band_rrs_numbers[index]])\n",
    "    custom_n.add_band(rrsw, parameters={'name': 'Rrsw_' + str(wavelens[index]),\n",
    "                                        'units': 'sr-1',\n",
    "                                        'wavelength': wavelens[index]})\n",
    "\n",
    "# plotting\n",
    "plt.plot(num_bands, test_deep, label='deep ' + str(round(h_deep * -1, 1)) + 'm')\n",
    "plt.plot(num_bands, test_shallow, label='shallow ' + str(round(h_shallow * -1, 1)) + 'm')\n",
    "plt.legend()\n",
    "plt.xticks(num_bands, wavelens)\n",
    "plt.xlabel('wavelength, nm')\n",
    "plt.ylabel('Rrs, sr^-1')\n",
    "#plt.ylim([0, 0.04])\n",
    "plt.show()"
   ]
  },
  {
   "cell_type": "code",
   "execution_count": 31,
   "metadata": {},
   "outputs": [],
   "source": [
    "plt.imshow(n_osw_oct['chl'])\n",
    "plt.colorbar()\n",
    "plt.show()"
   ]
  },
  {
   "cell_type": "code",
   "execution_count": 6,
   "metadata": {},
   "outputs": [
    {
     "name": "stderr",
     "output_type": "stream",
     "text": [
      "/home/artemm/Programs/Miniconda/miniconda2/envs/niersc/lib/python2.7/site-packages/ipykernel/__main__.py:3: RuntimeWarning: invalid value encountered in less\n  app.launch_new_instance()\n"
     ]
    }
   ],
   "source": [
    "h = np.copy(bottom[1])\n",
    "h[np.where(h > np.float32(0.0))] = np.nan\n",
    "h[np.where(h < np.float32(0.0))] *= np.float32(-1)\n",
    "\n",
    "m_osw = []\n",
    "m_deep = []\n",
    "#for i in range(np.nanmin(h), np.nanmax(h)):\n",
    "\n",
    "\n",
    "plt.imshow(n_osw_oct['chl'])\n",
    "plt.colorbar()\n",
    "plt.show()"
   ]
  },
  {
   "cell_type": "code",
   "execution_count": 6,
   "metadata": {},
   "outputs": [],
   "source": [
    "dat = Nansat('/home/artemm/Documents/Work/MichiganLake/TetsData/A2014301181500.L2_LAC_OC.x.nc')\n",
    "dom = Domain('+proj=latlong +datum=WGS84 +ellps=WGS84 +no_defs', '-lle -86.3 44.6 -85.2 45.3 -ts 300 200')\n",
    "dat.reproject(dom)"
   ]
  },
  {
   "cell_type": "code",
   "execution_count": 10,
   "metadata": {},
   "outputs": [
    {
     "name": "stdout",
     "output_type": "stream",
     "text": [
      "[412, 443, 469, 488, 531, 547, 555, 645, 667, 678]\n[2, 3, 4, 5, 6, 7, 8, 9, 10, 11]\n443\n469\n488\n531\n"
     ]
    },
    {
     "name": "stdout",
     "output_type": "stream",
     "text": [
      "547\n555\n645\n----------------------------------------\n\n----------------------------------------\nMapper: \n----------------------------------------\nBand : 1 Rrsw_443\n  name: Rrsw_443\n  dataType: 6\n  units: sr-1\n  SourceFilename: /vsimem/ITL2TAF9YW.vrt\n  SourceBand: 1\n  wavelength: 443\nBand : 2 Rrsw_469\n  name: Rrsw_469\n  dataType: 6\n  units: sr-1\n  SourceFilename: /vsimem/ITL2TAF9YW.vrt\n  SourceBand: 2\n  wavelength: 469\nBand : 3 Rrsw_488\n  name: Rrsw_488\n  dataType: 6\n  units: sr-1\n  SourceFilename: /vsimem/ITL2TAF9YW.vrt\n  SourceBand: 3\n  wavelength: 488\nBand : 4 Rrsw_531\n  name: Rrsw_531\n  dataType: 6\n  units: sr-1\n  SourceFilename: /vsimem/ITL2TAF9YW.vrt\n  SourceBand: 4\n  wavelength: 531\nBand : 5 Rrsw_547\n  name: Rrsw_547\n  dataType: 6\n  units: sr-1\n  SourceFilename: /vsimem/ITL2TAF9YW.vrt\n  SourceBand: 5\n  wavelength: 547\nBand : 6 Rrsw_555\n  name: Rrsw_555\n  dataType: 6\n  units: sr-1\n  SourceFilename: /vsimem/ITL2TAF9YW.vrt\n  SourceBand: 6\n  wavelength: 555\nBand : 7 Rrsw_645\n  name: Rrsw_645\n  dataType: 6\n  units: sr-1\n  SourceFilename: /vsimem/587SFG8CIX.vrt\n  SourceBand: 1\n  wavelength: 645\n----------------------------------------\nDomain:[300 x 200]\n----------------------------------------\nProjection:\nGEOGCS[\"WGS 84\",\n    DATUM[\"WGS_1984\",\n        SPHEROID[\"WGS 84\",6378137,298.257223563],\n        TOWGS84[0,0,0,0,0,0,0]],\n    PRIMEM[\"Greenwich\",0],\n    UNIT[\"degree\",0.0174532925199433]]\n----------------------------------------\nCorners (lon, lat):\n\t (-86.30,  45.30)  (-85.20,  45.30)\n\t (-86.30,  44.60)  (-85.20,  44.60)\n\n"
     ]
    }
   ],
   "source": [
    "wavelen = [412, 443, 469, 488, 531, 547, 555, 645, 667, 678]\n",
    "print wavelen\n",
    "\n",
    "band_rrs_numbers = list(map(lambda x: dat._get_band_number('Rrs_' + str(x)), wavelen))\n",
    "print band_rrs_numbers\n",
    "\n",
    "custom_n = Nansat(domain=n)\n",
    "\n",
    "for index in range(0, len(wavelen)):\n",
    "    if 412 < wavelen[index] < 667:\n",
    "        print wavelen[index]\n",
    "        rrsw = n[band_rrs_numbers[index]] / (0.52 + 1.7 * n[band_rrs_numbers[index]])\n",
    "        custom_n.add_band(rrsw, parameters={'name': 'Rrsw_' + str(wavelen[index]),\n",
    "                                            'units': 'sr-1',\n",
    "                                            'wavelength': wavelen[index]})\n",
    "        \n",
    "print custom_n"
   ]
  },
  {
   "cell_type": "code",
   "execution_count": 2,
   "metadata": {},
   "outputs": [],
   "source": [
    ""
   ]
  },
  {
   "cell_type": "code",
   "execution_count": 18,
   "metadata": {},
   "outputs": [],
   "source": [
    ""
   ]
  }
 ],
 "metadata": {
  "kernelspec": {
   "display_name": "Python 2",
   "language": "python",
   "name": "python2"
  },
  "language_info": {
   "codemirror_mode": {
    "name": "ipython",
    "version": 2.0
   },
   "file_extension": ".py",
   "mimetype": "text/x-python",
   "name": "python",
   "nbconvert_exporter": "python",
   "pygments_lexer": "ipython2",
   "version": "2.7.6"
  }
 },
 "nbformat": 4,
 "nbformat_minor": 0
}