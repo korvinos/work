{
 "cells": [
  {
   "cell_type": "code",
   "execution_count": 1,
   "metadata": {
    "collapsed": true
   },
   "outputs": [
    {
     "name": "stderr",
     "output_type": "stream",
     "text": [
      "/home/artemm/miniconda/lib/python2.7/site-packages/matplotlib/font_manager.py:273: UserWarning: Matplotlib is building the font cache using fc-list. This may take a moment.\n  warnings.warn('Matplotlib is building the font cache using fc-list. This may take a moment.')\n"
     ]
    }
   ],
   "source": [
    "from nansat import Nansat, Domain\n",
    "import matplotlib.pyplot as plt\n",
    "import numpy as np\n",
    "from boreali import  Boreali, lm\n",
    "import custrepr\n",
    "from matplotlib.patches import Rectangle"
   ]
  },
  {
   "cell_type": "code",
   "execution_count": 2,
   "metadata": {},
   "outputs": [
    {
     "name": "stdout",
     "output_type": "stream",
     "text": [
      "=>michigan.grd<=\n"
     ]
    }
   ],
   "source": [
    "# different kinds of test data was processed by boreali algorithms \n",
    "# october data\n",
    "n_osw_oct = Nansat('/home/artemm/Documents/michigan/tests/A2014301181500.L2_LAC_OC.x.nccpa_OSW.nc')\n",
    "n_deep_oct = Nansat('/home/artemm/Documents/michigan/tests/A2014301181500.L2_LAC_OC.x.nccpa_deep.nc')\n",
    "# may data\n",
    "n_osw_may = Nansat('/home/artemm/Documents/michigan/tests/A2014121184000.L2_LAC_OC.x.nccpa_OSW.nc')\n",
    "n_deep_may = Nansat('/home/artemm/Documents/michigan/tests/A2014121184000.L2_LAC_OC.x.nccpa_deep.nc')\n",
    "\n",
    "# base files\n",
    "n_rrs_oct = Nansat('/home/artemm/Documents/michigan/data/2014/oct/A2014301181500.L2_LAC_OC.x.nc')\n",
    "n_rrs_may = Nansat('/home/artemm/Documents/michigan/data/2014/may/A2014121184000.L2_LAC_OC.x.nc')\n",
    "\n",
    "# bathymetry\n",
    "bottom = Nansat('/home/artemm/Documents/michigan/tests/michigan_lld.grd')\n",
    "\n",
    "dom = Domain('+proj=latlong +datum=WGS84 +ellps=WGS84 +no_defs', '-lle -86.3 44.6 -85.2 45.3 -ts 300 200')\n",
    "\n",
    "n_rrs_oct.reproject(dom)\n",
    "n_rrs_may.reproject(dom)\n",
    "bottom.reproject(dom)"
   ]
  },
  {
   "cell_type": "code",
   "execution_count": 10,
   "metadata": {},
   "outputs": [],
   "source": [
    "# droving of bottom\n",
    "h = np.copy(bottom[1])\n",
    "h[np.where(h > np.float32(0.0))] = np.nan\n",
    "h[np.where(h < np.float32(0.0))] *= np.float32(-1)\n",
    "plt.figure('bottom')\n",
    "plt.text(50, 102, '1', fontsize=15, )\n",
    "\n",
    "plt.imshow(h)\n",
    "plt.colorbar()\n",
    "\n",
    "# adding of rectangles for each region\n",
    "currentAxis = plt.gca()\n",
    "currentAxis.add_patch(Rectangle((112 - .5, 0 - .5), 17, 20, fill=False))    # bank near S.Fox isl.\n",
    "currentAxis.add_patch(Rectangle((14 - .5, 86 - .5), 46, 48, fill=False))    # Maniton Passage\n",
    "currentAxis.add_patch(Rectangle((196 - .5, 14 - .5), 68, 38, fill=False))   # Grand Traverse Bay\n",
    "\n",
    "plt.show()"
   ]
  },
  {
   "cell_type": "code",
   "execution_count": 51,
   "metadata": {},
   "outputs": [],
   "source": [
    "# droving of Rrsw spectrum for the deep and shallow region \n",
    "num_bands = range(2, 12)\n",
    "n = n_rrs_oct\n",
    "test_deep = [n[band][9][102] for band in range(2, 12)]\n",
    "h_deep = bottom[1][9][102]\n",
    "h_shallow = bottom[1][6][122]\n",
    "test_shallow = [n[band][6][122] for band in range(2, 12)]\n",
    "wavelens = [412, 443, 469, 488, 531, 547, 555, 645, 667, 678]\n",
    "custom_n = Nansat(domain=n)\n",
    "\n",
    "# Rrsw processing\n",
    "band_rrs_numbers = list(map(lambda x: n._get_band_number('Rrs_' + str(x)), wavelens))\n",
    "\n",
    "for index in range(0, len(wavelens)):\n",
    "    rrsw = n[band_rrs_numbers[index]] / (0.52 + 1.7 * n[band_rrs_numbers[index]])\n",
    "    custom_n.add_band(rrsw, parameters={'name': 'Rrsw_' + str(wavelens[index]),\n",
    "                                        'units': 'sr-1',\n",
    "                                        'wavelength': wavelens[index]})\n",
    "\n",
    "# plotting\n",
    "plt.plot(num_bands, test_deep, label='deep ' + str(round(h_deep * -1, 1)) + 'm')\n",
    "plt.plot(num_bands, test_shallow, label='shallow ' + str(round(h_shallow * -1, 1)) + 'm')\n",
    "plt.legend()\n",
    "plt.xticks(num_bands, wavelens)\n",
    "plt.xlabel('wavelength, nm')\n",
    "plt.ylabel('Rrsw, sr^-1')\n",
    "#plt.ylim([0, 0.04])\n",
    "plt.show()"
   ]
  },
  {
   "cell_type": "code",
   "execution_count": 53,
   "metadata": {},
   "outputs": [],
   "source": [
    "plt.imshow(n_osw_oct['chl'])\n",
    "plt.colorbar()\n",
    "plt.show()"
   ]
  },
  {
   "cell_type": "code",
   "execution_count": 1,
   "metadata": {},
   "outputs": [],
   "source": [
    "# coding: utf-8\n",
    "def boreali_osw_processing(final_path):\n",
    "    \"\"\"\n",
    "    Мой код в данной функции основан на tutorial.py который я нашел в репозитории boreali.\n",
    "    :param obj: путь до изображения\n",
    "    :param final_path: Путь для сохранения файлов\n",
    "    :return:\n",
    "    \"\"\"\n",
    "    '''\n",
    "    Данные для тестирвоания\n",
    "    obj = '/home/artemm/Documents/michigan/average_data/2014/oct/A2014295301.L2_LAC_OC.x.nc.reproject.nc.mosaic.nc'\n",
    "    path = '/home/artemm/Documents/work/'\n",
    "    '''\n",
    "    wavelen = [412, 443, 469, 488,\n",
    "               531, 547, 555,\n",
    "               645, 667, 678]\n",
    "\n",
    "    cpa_limits = [0.01, 5,\n",
    "                  0.01, 1,\n",
    "                  0.01, 1, 10]\n",
    "\n",
    "    h = custrepr.get_deph()  # Глубина исследуемого района по батиметрии\n",
    "\n",
    "    b = Boreali('michigan', wavelen)\n",
    "    n = n_rrs_oct\n",
    "    dom = Domain('+proj=latlong +datum=WGS84 +ellps=WGS84 +no_defs', '-lle -86.3 44.6 -85.2 45.3 -ts 300 200')\n",
    "    n.reproject(dom)\n",
    "    theta = np.zeros_like(n[2])\n",
    "\n",
    "    custom_n = Nansat(domain=n)\n",
    "    band_rrs_numbers = list(map(lambda x: n._get_band_number('Rrs_' + str(x)),\n",
    "                                wavelen))   # Получаем список номеров бандов в которых лежат значения Rrs\n",
    "\n",
    "    # osw считает по значниям Rrs ?\n",
    "    # для корректной работы складываем в custom_n значения и Rrs и Rrsw\n",
    "    for index in range(0, len(wavelen)):\n",
    "        rrsw = n[band_rrs_numbers[index]] / (0.52 + 1.7 * n[band_rrs_numbers[index]])   # Пересчитываем Rrs в Rrsw\n",
    "        custom_n.add_band(rrsw, parameters={'name': 'Rrsw_' + str(wavelen[index]),  # Складываем в новый объект Rrsw\n",
    "                                            'units': 'sr-1',\n",
    "                                            'wavelength': wavelen[index]})\n",
    "        # Складываем в новый объект значения Rrs\n",
    "        custom_n.add_band(n[band_rrs_numbers[index]], parameters={'name': 'Rrs_' + str(wavelen[index]),\n",
    "                                                                  'units': 'sr-1',\n",
    "                                                                  'wavelength': wavelen[index]})\n",
    "\n",
    "    custom_n = custrepr.create_mask(custom_n)\n",
    "    cpa = b.process(custom_n, cpa_limits,  mask=custom_n['mask'], depth=h, theta=theta, threads=4)\n",
    "\n",
    "    custom_n.add_band(array=cpa[0], parameters={'name': 'chl',\n",
    "                                                'long_name': 'Chlorophyl-a',\n",
    "                                                'units': 'mg m-3'})\n",
    "    custom_n.add_band(array=cpa[1], parameters={'name': 'tsm',\n",
    "                                                'long_name': 'Total suspended matter',\n",
    "                                                'units': 'g m-3'})\n",
    "    custom_n.add_band(array=cpa[2], parameters={'name': 'doc',\n",
    "                                                'long_name': 'Dissolved organic carbon',\n",
    "                                                'units': 'gC m-3'})\n",
    "    custom_n.add_band(array=cpa[3], parameters={'name': 'mse',\n",
    "                                                'long_name': 'Root Mean Square Error',\n",
    "                                                'units': 'sr-1'})\n",
    "    custom_n.add_band(array=cpa[4], parameters={'name': 'mask',\n",
    "                                                'long_name': 'L2 Boreali mask',\n",
    "                                                'units': '1'})\n",
    "\n",
    "    custom_n.export('cpa_OSW.nc')\n",
    "\n",
    "    fig_params = {'legend': True,\n",
    "                  'LEGEND_HEIGHT': 0.5,\n",
    "                  'NAME_LOCATION_Y': 0,\n",
    "                  'mask_array': cpa[4],\n",
    "                  'mask_lut': {1: [255, 255, 255], 2: [128, 128, 128], 4: [200, 200, 255]}}\n",
    "    custom_n.write_figure(final_path + 'chl_OSW.png', 'chl', clim=[0, 1.], **fig_params)\n",
    "    custom_n.write_figure(final_path + 'tsm_OSW.png', 'tsm', clim=[0, 1.], **fig_params)\n",
    "    custom_n.write_figure(final_path + 'doc_OSW.png', 'doc', clim=[0, .2], **fig_params)\n",
    "    custom_n.write_figure(final_path + 'mse_OSW.png', 'mse', clim=[1e-5, 1e-2],\n",
    "                          logarithm=True, **fig_params)\n",
    "    n.write_figure(final_path + 'rgb_OSW.png',\n",
    "                   [16, 14, 6],\n",
    "                   clim=[[0, 0, 0], [0.006, 0.04, 0.024]],\n",
    "                   mask_array=cpa[4],\n",
    "                   mask_lut={2: [128, 128, 128]})"
   ]
  },
  {
   "cell_type": "code",
   "execution_count": 18,
   "metadata": {},
   "outputs": [],
   "source": [
    ""
   ]
  },
  {
   "cell_type": "code",
   "execution_count": 18,
   "metadata": {},
   "outputs": [],
   "source": [
    ""
   ]
  },
  {
   "cell_type": "code",
   "execution_count": 18,
   "metadata": {},
   "outputs": [],
   "source": [
    ""
   ]
  },
  {
   "cell_type": "code",
   "execution_count": 18,
   "metadata": {},
   "outputs": [],
   "source": [
    ""
   ]
  }
 ],
 "metadata": {
  "kernelspec": {
   "display_name": "Python 2",
   "language": "python",
   "name": "python2"
  },
  "language_info": {
   "codemirror_mode": {
    "name": "ipython",
    "version": 2.0
   },
   "file_extension": ".py",
   "mimetype": "text/x-python",
   "name": "python",
   "nbconvert_exporter": "python",
   "pygments_lexer": "ipython2",
   "version": "2.7.6"
  }
 },
 "nbformat": 4,
 "nbformat_minor": 0
}